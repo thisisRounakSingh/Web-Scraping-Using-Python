{
 "cells": [
  {
   "attachments": {},
   "cell_type": "markdown",
   "metadata": {},
   "source": [
    "# You are on Magenta - Third day of web scraping."
   ]
  },
  {
   "cell_type": "code",
   "execution_count": 14,
   "metadata": {},
   "outputs": [
    {
     "data": {
      "text/html": [
       "<div>\n",
       "<style scoped>\n",
       "    .dataframe tbody tr th:only-of-type {\n",
       "        vertical-align: middle;\n",
       "    }\n",
       "\n",
       "    .dataframe tbody tr th {\n",
       "        vertical-align: top;\n",
       "    }\n",
       "\n",
       "    .dataframe thead th {\n",
       "        text-align: right;\n",
       "    }\n",
       "</style>\n",
       "<table border=\"1\" class=\"dataframe\">\n",
       "  <thead>\n",
       "    <tr style=\"text-align: right;\">\n",
       "      <th></th>\n",
       "      <th>id</th>\n",
       "      <th>Star_name</th>\n",
       "      <th>Distance</th>\n",
       "      <th>Mass</th>\n",
       "      <th>Radius</th>\n",
       "    </tr>\n",
       "  </thead>\n",
       "  <tbody>\n",
       "    <tr>\n",
       "      <th>0</th>\n",
       "      <td>0</td>\n",
       "      <td>SDSS J000013.54+255418.6 [de]</td>\n",
       "      <td>46.1</td>\n",
       "      <td>48.0</td>\n",
       "      <td>0.99</td>\n",
       "    </tr>\n",
       "    <tr>\n",
       "      <th>1</th>\n",
       "      <td>1</td>\n",
       "      <td>2MASS J00040288-6410358</td>\n",
       "      <td>192.0</td>\n",
       "      <td>19.0</td>\n",
       "      <td>1.63</td>\n",
       "    </tr>\n",
       "    <tr>\n",
       "      <th>3</th>\n",
       "      <td>3</td>\n",
       "      <td>2MASS J00242463-0158201</td>\n",
       "      <td>37.7</td>\n",
       "      <td>79.0</td>\n",
       "      <td>1.09</td>\n",
       "    </tr>\n",
       "    <tr>\n",
       "      <th>5</th>\n",
       "      <td>5</td>\n",
       "      <td>2MASS J00274197+0503417</td>\n",
       "      <td>236.0</td>\n",
       "      <td>31.0</td>\n",
       "      <td>1.44</td>\n",
       "    </tr>\n",
       "    <tr>\n",
       "      <th>7</th>\n",
       "      <td>7</td>\n",
       "      <td>2MASSW J0030300-145033</td>\n",
       "      <td>87.2</td>\n",
       "      <td>54.0</td>\n",
       "      <td>0.98</td>\n",
       "    </tr>\n",
       "  </tbody>\n",
       "</table>\n",
       "</div>"
      ],
      "text/plain": [
       "   id                      Star_name  Distance  Mass  Radius\n",
       "0   0  SDSS J000013.54+255418.6 [de]      46.1  48.0    0.99\n",
       "1   1        2MASS J00040288-6410358     192.0  19.0    1.63\n",
       "3   3        2MASS J00242463-0158201      37.7  79.0    1.09\n",
       "5   5        2MASS J00274197+0503417     236.0  31.0    1.44\n",
       "7   7         2MASSW J0030300-145033      87.2  54.0    0.98"
      ]
     },
     "execution_count": 14,
     "metadata": {},
     "output_type": "execute_result"
    }
   ],
   "source": [
    "import pandas as pd\n",
    "\n",
    "data_frame = pd.read_csv(\"../Output/updated_scrapeData.csv\")\n",
    "data_frame = data_frame.dropna()\n",
    "\n",
    "data_frame.head()"
   ]
  },
  {
   "cell_type": "code",
   "execution_count": 15,
   "metadata": {},
   "outputs": [
    {
     "data": {
      "text/html": [
       "<div>\n",
       "<style scoped>\n",
       "    .dataframe tbody tr th:only-of-type {\n",
       "        vertical-align: middle;\n",
       "    }\n",
       "\n",
       "    .dataframe tbody tr th {\n",
       "        vertical-align: top;\n",
       "    }\n",
       "\n",
       "    .dataframe thead th {\n",
       "        text-align: right;\n",
       "    }\n",
       "</style>\n",
       "<table border=\"1\" class=\"dataframe\">\n",
       "  <thead>\n",
       "    <tr style=\"text-align: right;\">\n",
       "      <th></th>\n",
       "      <th>id</th>\n",
       "      <th>Star_name</th>\n",
       "      <th>Distance</th>\n",
       "      <th>Mass</th>\n",
       "      <th>Radius</th>\n",
       "    </tr>\n",
       "  </thead>\n",
       "  <tbody>\n",
       "    <tr>\n",
       "      <th>185</th>\n",
       "      <td>185</td>\n",
       "      <td>2MASSI J2356547-155310</td>\n",
       "      <td>74.0</td>\n",
       "      <td>0.076367</td>\n",
       "      <td>0.112012</td>\n",
       "    </tr>\n",
       "    <tr>\n",
       "      <th>223</th>\n",
       "      <td>223</td>\n",
       "      <td>WISE 0410+1502</td>\n",
       "      <td>20.0</td>\n",
       "      <td>0.005728</td>\n",
       "      <td>0.120233</td>\n",
       "    </tr>\n",
       "    <tr>\n",
       "      <th>227</th>\n",
       "      <td>227</td>\n",
       "      <td>WISE 0458+6434A</td>\n",
       "      <td>35.9</td>\n",
       "      <td>0.014319</td>\n",
       "      <td>0.431605</td>\n",
       "    </tr>\n",
       "    <tr>\n",
       "      <th>228</th>\n",
       "      <td>228</td>\n",
       "      <td>WISE 0458+6434B</td>\n",
       "      <td>35.9</td>\n",
       "      <td>0.009546</td>\n",
       "      <td>0.390499</td>\n",
       "    </tr>\n",
       "    <tr>\n",
       "      <th>282</th>\n",
       "      <td>282</td>\n",
       "      <td>WISE 1405+5534</td>\n",
       "      <td>25.3</td>\n",
       "      <td>0.028638</td>\n",
       "      <td>0.088376</td>\n",
       "    </tr>\n",
       "  </tbody>\n",
       "</table>\n",
       "</div>"
      ],
      "text/plain": [
       "      id               Star_name  Distance      Mass    Radius\n",
       "185  185  2MASSI J2356547-155310      74.0  0.076367  0.112012\n",
       "223  223          WISE 0410+1502      20.0  0.005728  0.120233\n",
       "227  227         WISE 0458+6434A      35.9  0.014319  0.431605\n",
       "228  228         WISE 0458+6434B      35.9  0.009546  0.390499\n",
       "282  282          WISE 1405+5534      25.3  0.028638  0.088376"
      ]
     },
     "execution_count": 15,
     "metadata": {},
     "output_type": "execute_result"
    }
   ],
   "source": [
    "data_frame[\"Radius\"] = data_frame[\"Radius\"] * 0.102763 # Solar Radius\n",
    "data_frame[\"Mass\"] = data_frame[\"Mass\"] * 0.000954588 # Solar Mass\n",
    "\n",
    "data_frame.tail()"
   ]
  },
  {
   "cell_type": "code",
   "execution_count": 16,
   "metadata": {},
   "outputs": [],
   "source": [
    "data_frame.to_csv(\"../Output/new_updated_scraped_data.csv\", index=True)"
   ]
  },
  {
   "cell_type": "code",
   "execution_count": 21,
   "metadata": {},
   "outputs": [],
   "source": [
    "file_data_1 = pd.read_csv(\"../Output/scraped_data.csv\")\n",
    "file_data_2 = pd.read_csv(\"../Output/new_updated_scraped_data.csv\")\n",
    "\n",
    "merge_data = pd.merge(file_data_1, file_data_2, on='id')\n",
    "\n",
    "merge_data.to_csv(\"../Output/merged_data_final.csv\", index=True)"
   ]
  }
 ],
 "metadata": {
  "kernelspec": {
   "display_name": "Web Scraping Using Python",
   "language": "python",
   "name": "python3"
  },
  "language_info": {
   "codemirror_mode": {
    "name": "ipython",
    "version": 3
   },
   "file_extension": ".py",
   "mimetype": "text/x-python",
   "name": "python",
   "nbconvert_exporter": "python",
   "pygments_lexer": "ipython3",
   "version": "3.11.0"
  },
  "orig_nbformat": 4
 },
 "nbformat": 4,
 "nbformat_minor": 2
}
